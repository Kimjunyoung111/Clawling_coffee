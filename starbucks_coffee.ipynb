{
 "cells": [
  {
   "cell_type": "code",
   "execution_count": 1,
   "id": "864577da",
   "metadata": {},
   "outputs": [],
   "source": [
    "import warnings\n",
    "warnings.filterwarnings(action='ignore')\n",
    "from selenium import webdriver\n",
    "from bs4 import BeautifulSoup\n",
    "import time\n",
    "import pandas as pd"
   ]
  },
  {
   "cell_type": "code",
   "execution_count": 2,
   "id": "be56b3f8",
   "metadata": {},
   "outputs": [],
   "source": [
    "from selenium import webdriver\n",
    "wd = webdriver.Chrome('./chromedriver.exe') \n",
    "wd.get('https://www.istarbucks.co.kr/store/store_map.do')\n",
    "# 크롬 드라이버 버전 96.0.4664.45"
   ]
  },
  {
   "cell_type": "code",
   "execution_count": null,
   "id": "1efecf8f",
   "metadata": {},
   "outputs": [],
   "source": [
    "def select_find(idx):\n",
    "    try:\n",
    "        wd.find_element_by_class_name('loca_search').click()\n",
    "        time.sleep(1)\n",
    "        wd.find_element_by_class_name('sido_arae_box').find_elements_by_tag_name('li')[idx].click()\n",
    "        time.sleep(1)\n",
    "        wd.find_element_by_class_name('gugun_arae_box').find_element_by_tag_name('li').click()\n",
    "        if idx==0:\n",
    "            time.sleep(3)\n",
    "        else :\n",
    "            time.sleep(1)\n",
    "    except:\n",
    "        print(\"\")"
   ]
  },
  {
   "cell_type": "code",
   "execution_count": null,
   "id": "40d5e5e8",
   "metadata": {},
   "outputs": [],
   "source": [
    "result = []\n",
    "time.sleep(5)\n",
    "for i in range(17):\n",
    "    select_find(i)\n",
    "    source = wd.page_source\n",
    "    soup = BeautifulSoup(source, 'html.parser')\n",
    "    soup = soup.find('ul', class_='quickSearchResultBoxSidoGugun') \n",
    "    li_list = soup.find_all('li')\n",
    "\n",
    "    for info in li_list:\n",
    "        store = info.find('strong').text\n",
    "        address = info.find('p').text\n",
    "        \n",
    "        result.append([store] + [address.split()[0]] + [address.split()[1]] + [address])\n",
    "        \n",
    "    time.sleep(3)\n",
    "    \n",
    "df = pd.DataFrame(result, columns = ['store','sido','gugun','address'])\n",
    "print(df)\n",
    "df.to_csv(\"./starbucks.csv\", encoding=\"utf-8-sig\", mode='w', index=True)"
   ]
  },
  {
   "cell_type": "code",
   "execution_count": null,
   "id": "41e9c6c5",
   "metadata": {},
   "outputs": [],
   "source": []
  }
 ],
 "metadata": {
  "kernelspec": {
   "display_name": "Python 3",
   "language": "python",
   "name": "python3"
  },
  "language_info": {
   "codemirror_mode": {
    "name": "ipython",
    "version": 3
   },
   "file_extension": ".py",
   "mimetype": "text/x-python",
   "name": "python",
   "nbconvert_exporter": "python",
   "pygments_lexer": "ipython3",
   "version": "3.6.8"
  }
 },
 "nbformat": 4,
 "nbformat_minor": 5
}
