{
 "cells": [
  {
   "cell_type": "code",
   "execution_count": 1,
   "id": "864577da",
   "metadata": {},
   "outputs": [],
   "source": [
    "import warnings\n",
    "warnings.filterwarnings(action='ignore')\n",
    "from selenium import webdriver\n",
    "from bs4 import BeautifulSoup\n",
    "import time\n",
    "import pandas as pd"
   ]
  },
  {
   "cell_type": "code",
   "execution_count": 2,
   "id": "be56b3f8",
   "metadata": {},
   "outputs": [],
   "source": [
    "from selenium import webdriver\n",
    "wd = webdriver.Chrome('./chromedriver.exe') \n",
    "wd.get('https://www.istarbucks.co.kr/store/store_map.do')\n",
    "# 크롬 드라이버 버전 96.0.4664.45"
   ]
  },
  {
   "cell_type": "code",
   "execution_count": 3,
   "id": "1efecf8f",
   "metadata": {},
   "outputs": [],
   "source": [
    "def select_find(idx):\n",
    "    try:\n",
    "        wd.find_element_by_class_name('loca_search').click()\n",
    "        time.sleep(1)\n",
    "        wd.find_element_by_class_name('sido_arae_box').find_elements_by_tag_name('li')[idx].click()\n",
    "        time.sleep(1)\n",
    "        wd.find_element_by_class_name('gugun_arae_box').find_element_by_tag_name('li').click()\n",
    "        if idx==0:\n",
    "            time.sleep(3)\n",
    "        else :\n",
    "            time.sleep(1)\n",
    "    except:\n",
    "        print(\"\")"
   ]
  },
  {
   "cell_type": "code",
   "execution_count": 4,
   "id": "40d5e5e8",
   "metadata": {},
   "outputs": [
    {
     "name": "stdout",
     "output_type": "stream",
     "text": [
      "\n",
      "            store     sido  gugun  \\\n",
      "0       역삼아레나빌딩      서울특별시    강남구   \n",
      "1        논현역사거리      서울특별시    강남구   \n",
      "2       신사역성일빌딩      서울특별시    강남구   \n",
      "3        국기원사거리      서울특별시    강남구   \n",
      "4        스탈릿대치R      서울특별시    강남구   \n",
      "...           ...      ...    ...   \n",
      "1609      세종이마트    세종특별자치시    금송로   \n",
      "1610       세종청사    세종특별자치시   도움8로   \n",
      "1611       세종아름    세종특별자치시  아름서1길   \n",
      "1612       세종소담    세종특별자치시   소담3로   \n",
      "1613  세종충남대학교병원    세종특별자치시   보듬7로   \n",
      "\n",
      "                                                address  \n",
      "0                      서울특별시 강남구 언주로 425 (역삼동)1522-3232  \n",
      "1                     서울특별시 강남구 강남대로 538 (논현동)1522-3232  \n",
      "2                     서울특별시 강남구 강남대로 584 (논현동)1522-3232  \n",
      "3                     서울특별시 강남구 테헤란로 125 (역삼동)1522-3232  \n",
      "4                   서울특별시 강남구 남부순환로 2947 (대치동)1522-3232  \n",
      "...                                                 ...  \n",
      "1609          세종특별자치시 금송로 687(가람동 406) 이마트 세종점1522-3232  \n",
      "1610                    세종특별자치시  도움8로 81 (어진동)1522-3232  \n",
      "1611  세종특별자치시 아름서1길 13-9 (아름동) 103,104,105,202,203호1...  \n",
      "1612  세종특별자치시 소담3로 8 (소담동) 1동  12호,13호,14호,15호,15a호,...  \n",
      "1613           세종특별자치시 보듬7로 20 (도담동) 헬스케어센터 1층1522-3232  \n",
      "\n",
      "[1614 rows x 4 columns]\n"
     ]
    }
   ],
   "source": [
    "result = []\n",
    "time.sleep(5)\n",
    "for i in range(17):\n",
    "    select_find(i)\n",
    "    source = wd.page_source\n",
    "    soup = BeautifulSoup(source, 'html.parser')\n",
    "    soup = soup.find('ul', class_='quickSearchResultBoxSidoGugun') \n",
    "    li_list = soup.find_all('li')\n",
    "\n",
    "    for info in li_list:\n",
    "        store = info.find('strong').text\n",
    "        address = info.find('p').text\n",
    "        \n",
    "        result.append([store] + [address.split()[0]] + [address.split()[1]] + [address])\n",
    "        \n",
    "    time.sleep(3)\n",
    "    \n",
    "df = pd.DataFrame(result, columns = ['store','sido','gugun','address'])\n",
    "print(df)\n",
    "df.to_csv(\"./starbucks.csv\", encoding=\"utf-8-sig\", mode='w', index=True)"
   ]
  },
  {
   "cell_type": "code",
   "execution_count": null,
   "id": "41e9c6c5",
   "metadata": {},
   "outputs": [],
   "source": []
  }
 ],
 "metadata": {
  "kernelspec": {
   "display_name": "Python 3",
   "language": "python",
   "name": "python3"
  },
  "language_info": {
   "codemirror_mode": {
    "name": "ipython",
    "version": 3
   },
   "file_extension": ".py",
   "mimetype": "text/x-python",
   "name": "python",
   "nbconvert_exporter": "python",
   "pygments_lexer": "ipython3",
   "version": "3.6.8"
  }
 },
 "nbformat": 4,
 "nbformat_minor": 5
}
